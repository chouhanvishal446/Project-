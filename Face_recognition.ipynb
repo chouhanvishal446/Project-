{
 "cells": [
  {
   "cell_type": "code",
   "execution_count": 1,
   "metadata": {},
   "outputs": [
    {
     "name": "stderr",
     "output_type": "stream",
     "text": [
      "Using TensorFlow backend.\n"
     ]
    }
   ],
   "source": [
    "from PIL import Image\n",
    "from keras.applications.vgg16 import preprocess_input\n",
    "import base64\n",
    "from io import BytesIO\n",
    "import json\n",
    "import random\n",
    "import cv2\n",
    "from keras.models import load_model\n",
    "import numpy as np\n",
    "\n",
    "from keras.preprocessing import image"
   ]
  },
  {
   "cell_type": "code",
   "execution_count": 20,
   "metadata": {},
   "outputs": [],
   "source": [
    "model = load_model('face_model_new_2.h5')\n",
    "\n",
    "# Loading the cascades\n",
    "face_cascade = cv2.CascadeClassifier('haarcascade_frontalface_default.xml')"
   ]
  },
  {
   "cell_type": "code",
   "execution_count": 21,
   "metadata": {},
   "outputs": [],
   "source": [
    "def face_extractor(img):\n",
    "    # Function detects faces and returns the cropped face\n",
    "    # If no face detected, it returns the input image\n",
    "    \n",
    "    #gray = cv2.cvtColor(img,cv2.COLOR_BGR2GRAY)\n",
    "    faces = face_cascade.detectMultiScale(img, 1.3, 5)\n",
    "    \n",
    "    if faces is ():\n",
    "        return None\n",
    "    \n",
    "    # Crop all faces found\n",
    "    for (x,y,w,h) in faces:\n",
    "        cv2.rectangle(img,(x,y),(x+w,y+h),(0,255,255),2)\n",
    "        cropped_face = img[y:y+h, x:x+w]\n",
    "\n",
    "    return cropped_face"
   ]
  },
  {
   "cell_type": "code",
   "execution_count": 25,
   "metadata": {},
   "outputs": [],
   "source": []
  },
  {
   "cell_type": "code",
   "execution_count": 29,
   "metadata": {},
   "outputs": [
    {
     "name": "stdout",
     "output_type": "stream",
     "text": [
      "[[0.000000e+00 0.000000e+00 0.000000e+00 1.000000e+00 3.008481e-25]]\n",
      "[[0.0000000e+00 0.0000000e+00 0.0000000e+00 1.0000000e+00 9.3946634e-17]]\n",
      "[[0.0000000e+00 0.0000000e+00 0.0000000e+00 1.0000000e+00 1.2343126e-11]]\n",
      "[[0.0000000e+00 0.0000000e+00 0.0000000e+00 1.0000000e+00 2.8226484e-08]]\n",
      "[[0.0000000e+00 9.8511053e-35 0.0000000e+00 1.0000000e+00 5.1584068e-17]]\n",
      "[[0.0000000e+00 1.9829085e-26 0.0000000e+00 1.0000000e+00 1.4523784e-09]]\n",
      "[[0.000000e+00 0.000000e+00 0.000000e+00 1.000000e+00 2.083109e-12]]\n",
      "[[0.0000000e+00 0.0000000e+00 0.0000000e+00 1.0000000e+00 1.5868185e-11]]\n",
      "[[0.         0.         0.         0.96157056 0.03842942]]\n",
      "[[0.0000000e+00 2.7853808e-28 0.0000000e+00 1.0000000e+00 3.4561316e-16]]\n",
      "[[0.         0.         0.         0.00212665 0.9978733 ]]\n",
      "[[0.0000000e+00 0.0000000e+00 0.0000000e+00 9.9996901e-01 3.1019925e-05]]\n",
      "[[0.0000000e+00 0.0000000e+00 0.0000000e+00 2.4170976e-13 1.0000000e+00]]\n",
      "[[0.0000000e+00 0.0000000e+00 0.0000000e+00 1.0000000e+00 5.2014872e-08]]\n",
      "[[0.         0.         0.         0.99476445 0.0052355 ]]\n",
      "[[0.000000e+00 0.000000e+00 0.000000e+00 1.000000e+00 9.064069e-13]]\n",
      "[[0.0000000e+00 0.0000000e+00 0.0000000e+00 1.0000000e+00 6.9611645e-13]]\n",
      "[[0.0000000e+00 0.0000000e+00 0.0000000e+00 1.0000000e+00 1.7665472e-15]]\n",
      "[[0.000000e+00 0.000000e+00 0.000000e+00 9.999999e-01 9.312176e-08]]\n",
      "[[0.         0.         0.         0.08472916 0.9152708 ]]\n",
      "[[0.0000000e+00 0.0000000e+00 0.0000000e+00 1.0000000e+00 7.6411835e-18]]\n",
      "[[0.         0.         0.         0.00807901 0.99192095]]\n",
      "[[0.000000e+00 0.000000e+00 0.000000e+00 1.141895e-10 1.000000e+00]]\n",
      "[[0.         0.         0.         0.99849963 0.00150032]]\n",
      "[[8.8975845e-16 2.0514314e-10 1.5632974e-11 9.9635673e-01 3.6433344e-03]]\n",
      "[[2.0498373e-06 5.7738821e-27 1.0618197e-22 1.1697107e-01 8.8302690e-01]]\n",
      "[[2.8017698e-21 3.9253040e-21 0.0000000e+00 1.0000000e+00 1.6086077e-14]]\n",
      "[[3.1896180e-29 1.4433444e-29 0.0000000e+00 1.0000000e+00 5.7836039e-24]]\n",
      "[[0. 0. 0. 1. 0.]]\n",
      "[[0.0000000e+00 0.0000000e+00 0.0000000e+00 1.0000000e+00 6.5804415e-30]]\n",
      "[[2.0184071e-30 4.8727088e-35 5.3638617e-29 1.0000000e+00 0.0000000e+00]]\n",
      "[[0. 0. 0. 1. 0.]]\n",
      "[[0. 0. 0. 1. 0.]]\n",
      "[[0. 0. 0. 1. 0.]]\n",
      "[[0. 0. 0. 1. 0.]]\n",
      "[[0. 0. 0. 1. 0.]]\n",
      "[[0. 0. 0. 1. 0.]]\n",
      "[[0. 0. 0. 1. 0.]]\n",
      "[[0. 0. 0. 1. 0.]]\n",
      "[[0. 0. 0. 1. 0.]]\n",
      "[[0. 0. 0. 1. 0.]]\n",
      "[[0. 0. 0. 1. 0.]]\n",
      "[[0. 0. 0. 1. 0.]]\n",
      "[[0. 0. 0. 1. 0.]]\n",
      "[[0. 0. 0. 1. 0.]]\n",
      "[[0. 0. 0. 1. 0.]]\n",
      "[[1.0244331e-30 0.0000000e+00 7.4523955e-26 1.0000000e+00 1.4415979e-32]]\n",
      "[[0. 0. 0. 1. 0.]]\n",
      "[[2.4743114e-26 0.0000000e+00 3.0232131e-36 1.0000000e+00 1.1519667e-25]]\n",
      "[[0. 0. 0. 1. 0.]]\n",
      "[[0.0000000e+00 2.2125911e-27 7.7933751e-34 1.0000000e+00 0.0000000e+00]]\n",
      "[[0.000000e+00 1.318014e-24 6.045204e-33 1.000000e+00 0.000000e+00]]\n",
      "[[0. 0. 0. 1. 0.]]\n",
      "[[0. 0. 0. 1. 0.]]\n",
      "[[0.0000000e+00 2.1441013e-33 0.0000000e+00 1.0000000e+00 0.0000000e+00]]\n",
      "[[4.6055244e-29 0.0000000e+00 4.5740592e-30 1.0000000e+00 1.2032822e-26]]\n",
      "[[2.7315045e-22 1.3196611e-21 1.4204594e-27 1.0000000e+00 1.4251585e-10]]\n",
      "[[7.2508318e-32 0.0000000e+00 4.8837460e-34 1.0000000e+00 2.8556344e-14]]\n",
      "[[6.4901394e-32 0.0000000e+00 2.8274386e-38 1.0000000e+00 9.4938424e-25]]\n",
      "[[3.1412149e-26 0.0000000e+00 1.0105007e-35 1.0000000e+00 2.4652830e-28]]\n",
      "[[1.4615538e-25 0.0000000e+00 0.0000000e+00 1.0000000e+00 7.1252201e-33]]\n",
      "[[4.5820189e-24 0.0000000e+00 6.1051342e-33 1.0000000e+00 1.7438323e-27]]\n"
     ]
    }
   ],
   "source": [
    "# Doing some Face Recognition with the webcam\n",
    "video_capture = cv2.VideoCapture(0)\n",
    "\n",
    "while True:\n",
    "    _, frame = video_capture.read()\n",
    "    #canvas = detect(gray, frame)\n",
    "    #image, face =face_detector(frame)\n",
    "    \n",
    "    face=face_extractor(frame)\n",
    "    if type(face) is np.ndarray:\n",
    "        face = cv2.resize(face, (224, 224))\n",
    "        im = Image.fromarray(face, 'RGB')\n",
    "           #Resizing into 128x128 because we trained the model with this image size.\n",
    "        img_array = np.array(im)\n",
    "                    #Our keras model used a 4D tensor, (images x height x width x channel)\n",
    "                    #So changing dimension 128x128x3 into 1x128x128x3 \n",
    "        img_array = np.expand_dims(img_array, axis=0)\n",
    "        pred = model.predict(img_array)\n",
    "        print(pred)\n",
    "                     \n",
    "        name=\"None matching\"\n",
    "        \n",
    "        if(pred[0][3]>0.5):\n",
    "            name='Vishal'\n",
    "        cv2.putText(frame,name, (50, 50), cv2.FONT_HERSHEY_COMPLEX, 1, (0,255,0), 2)\n",
    "    else:\n",
    "        cv2.putText(frame,\"No face found\", (50, 50), cv2.FONT_HERSHEY_COMPLEX, 1, (0,255,0), 2)\n",
    "    cv2.imshow('Video', frame)\n",
    "    if cv2.waitKey(1) & 0xFF == ord('q'):\n",
    "        break\n",
    "        \n",
    "video_capture.release()\n",
    "cv2.destroyAllWindows()"
   ]
  },
  {
   "cell_type": "code",
   "execution_count": null,
   "metadata": {},
   "outputs": [],
   "source": []
  },
  {
   "cell_type": "code",
   "execution_count": null,
   "metadata": {},
   "outputs": [],
   "source": []
  }
 ],
 "metadata": {
  "kernelspec": {
   "display_name": "Python 3",
   "language": "python",
   "name": "python3"
  },
  "language_info": {
   "codemirror_mode": {
    "name": "ipython",
    "version": 3
   },
   "file_extension": ".py",
   "mimetype": "text/x-python",
   "name": "python",
   "nbconvert_exporter": "python",
   "pygments_lexer": "ipython3",
   "version": "3.7.6"
  }
 },
 "nbformat": 4,
 "nbformat_minor": 4
}
